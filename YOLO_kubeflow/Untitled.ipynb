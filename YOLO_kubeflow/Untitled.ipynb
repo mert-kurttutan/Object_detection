{
 "cells": [
  {
   "cell_type": "code",
   "execution_count": 1,
   "id": "b5ed922a-f445-4dee-9d05-79c105ebbe3e",
   "metadata": {},
   "outputs": [],
   "source": [
    "import os\n",
    "from pathlib import Path\n",
    "import requests\n",
    "\n",
    "import kfp"
   ]
  },
  {
   "cell_type": "code",
   "execution_count": 2,
   "id": "2203e6d4-ccc0-4148-b3b8-5970b56e86ba",
   "metadata": {},
   "outputs": [],
   "source": [
    "preprocess_op = kfp.components.load_component_from_file(\"preprocess.yaml\")\n",
    "train_op = kfp.components.load_component_from_file('train-data.yaml')\n"
   ]
  },
  {
   "cell_type": "code",
   "execution_count": 3,
   "id": "afa3c1ee-8c0d-46a7-8d2e-18bdc2c6646b",
   "metadata": {},
   "outputs": [],
   "source": [
    "\n",
    "#Use the component as part of the pipeline\n",
    "@kfp.dsl.pipeline(name='Test keras/train_classifier', description='Pipeline to test keras/train_classifier component')\n",
    "def pipeline_to_test_keras_train_classifier(bucket, blob_path):\n",
    "    preprocess_task = preprocess_op(input_bucket=bucket, input_blob_path=blob_path)\n",
    "    train_task = train_op(input_blob_path=preprocess_task.outputs[\"Output file\"], input_bucket=bucket)\n",
    "    \n"
   ]
  },
  {
   "cell_type": "code",
   "execution_count": 4,
   "id": "84d57189-f9ed-4c14-9d78-59ef69ff4a36",
   "metadata": {},
   "outputs": [],
   "source": [
    "kfp.compiler.Compiler().compile(pipeline_to_test_keras_train_classifier, \"myertmrrrrrerkurttu7eee6kurtas45\" + '.tar.gz')"
   ]
  },
  {
   "cell_type": "code",
   "execution_count": 5,
   "id": "5abfffc0-0795-41c3-918e-f8503b9c7a12",
   "metadata": {},
   "outputs": [],
   "source": [
    "extract_task = extract_op()"
   ]
  },
  {
   "cell_type": "code",
   "execution_count": 6,
   "id": "ffbc27a9-a42e-4ac8-a720-9648dcbf7bea",
   "metadata": {},
   "outputs": [],
   "source": [
    "transform_task = transform_op(output_1=extract_task.outputs[\"Output 1\"])"
   ]
  },
  {
   "cell_type": "code",
   "execution_count": 7,
   "id": "6a1754bf-54bc-416a-963d-44961e451360",
   "metadata": {},
   "outputs": [],
   "source": [
    "train_task = train_op(output_1=transform_task.outputs[\"Output 1\"])"
   ]
  },
  {
   "cell_type": "code",
   "execution_count": 7,
   "id": "1da1ca5f-727f-433a-8478-9418d9ab2b54",
   "metadata": {},
   "outputs": [
    {
     "data": {
      "text/plain": [
       "[OutputSpec(name='Output 1', type='String', description='Output 1 data.', annotations=None)]"
      ]
     },
     "execution_count": 7,
     "metadata": {},
     "output_type": "execute_result"
    }
   ],
   "source": [
    "extract_op.component_spec.outputs"
   ]
  },
  {
   "cell_type": "code",
   "execution_count": 5,
   "id": "8b9c5976-337d-4c11-be41-52026f72ab26",
   "metadata": {},
   "outputs": [],
   "source": [
    "import os\n",
    "from google.cloud import storage\n"
   ]
  },
  {
   "cell_type": "code",
   "execution_count": 6,
   "id": "a14afc3a-2bb5-4db1-84bb-3e5dd322bc31",
   "metadata": {},
   "outputs": [],
   "source": [
    "bucket = \"obj-det-kb123\""
   ]
  },
  {
   "cell_type": "code",
   "execution_count": 7,
   "id": "751fe6fd-ef77-4934-b7da-15505f126588",
   "metadata": {},
   "outputs": [],
   "source": [
    "\n",
    "client = storage.Client()\n",
    "bucket = client.get_bucket(bucket)"
   ]
  },
  {
   "cell_type": "code",
   "execution_count": 9,
   "id": "e31b0b3f-a82a-4ade-a75f-50186c020cae",
   "metadata": {},
   "outputs": [
    {
     "name": "stdout",
     "output_type": "stream",
     "text": [
      "here\n"
     ]
    }
   ],
   "source": [
    "if bucket:\n",
    "    for root, _, files in os.walk(export_path):\n",
    "        for file in files:\n",
    "            path = os.path.join(root, file)\n",
    "            blob = bucket.blob(path)\n",
    "            blob.upload_from_filename(path)"
   ]
  }
 ],
 "metadata": {
  "environment": {
   "kernel": "python3",
   "name": "tf2-gpu.2-8.m93",
   "type": "gcloud",
   "uri": "gcr.io/deeplearning-platform-release/tf2-gpu.2-8:m93"
  },
  "kernelspec": {
   "display_name": "Python 3",
   "language": "python",
   "name": "python3"
  },
  "language_info": {
   "codemirror_mode": {
    "name": "ipython",
    "version": 3
   },
   "file_extension": ".py",
   "mimetype": "text/x-python",
   "name": "python",
   "nbconvert_exporter": "python",
   "pygments_lexer": "ipython3",
   "version": "3.7.12"
  }
 },
 "nbformat": 4,
 "nbformat_minor": 5
}
