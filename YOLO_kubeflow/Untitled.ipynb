{
 "cells": [
  {
   "cell_type": "code",
   "execution_count": 1,
   "id": "b5ed922a-f445-4dee-9d05-79c105ebbe3e",
   "metadata": {},
   "outputs": [],
   "source": [
    "import os\n",
    "from pathlib import Path\n",
    "import requests\n",
    "\n",
    "import kfp"
   ]
  },
  {
   "cell_type": "code",
   "execution_count": 2,
   "id": "2203e6d4-ccc0-4148-b3b8-5970b56e86ba",
   "metadata": {},
   "outputs": [],
   "source": [
    "preprocess_op = kfp.components.load_component_from_file(\"preprocess.yaml\")\n",
    "train_op = kfp.components.load_component_from_file('train-data.yaml')\n"
   ]
  },
  {
   "cell_type": "code",
   "execution_count": 3,
   "id": "afa3c1ee-8c0d-46a7-8d2e-18bdc2c6646b",
   "metadata": {},
   "outputs": [],
   "source": [
    "\n",
    "#Use the component as part of the pipeline\n",
    "@kfp.dsl.pipeline(name='Object detection ML pipeline', description='Pipeline that consists of data preprocessing, training, and deployment')\n",
    "def pipeline_to_test_keras_train_classifier(bucket, blob_path):\n",
    "    preprocess_task = preprocess_op(input_bucket=bucket, input_blob_path=blob_path)\n",
    "    train_task = train_op(input_blob_path=preprocess_task.outputs[\"Output file\"], input_bucket=bucket)\n",
    "    \n"
   ]
  },
  {
   "cell_type": "code",
   "execution_count": 4,
   "id": "84d57189-f9ed-4c14-9d78-59ef69ff4a36",
   "metadata": {},
   "outputs": [],
   "source": [
    "kfp.compiler.Compiler().compile(pipeline_to_test_keras_train_classifier, \"run_obj_det_v3\" + '.tar.gz')"
   ]
  }
 ],
 "metadata": {
  "environment": {
   "kernel": "python3",
   "name": "tf2-gpu.2-8.m93",
   "type": "gcloud",
   "uri": "gcr.io/deeplearning-platform-release/tf2-gpu.2-8:m93"
  },
  "kernelspec": {
   "display_name": "Python 3",
   "language": "python",
   "name": "python3"
  },
  "language_info": {
   "codemirror_mode": {
    "name": "ipython",
    "version": 3
   },
   "file_extension": ".py",
   "mimetype": "text/x-python",
   "name": "python",
   "nbconvert_exporter": "python",
   "pygments_lexer": "ipython3",
   "version": "3.7.12"
  }
 },
 "nbformat": 4,
 "nbformat_minor": 5
}
