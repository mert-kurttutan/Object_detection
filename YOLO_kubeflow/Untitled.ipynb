{
 "cells": [
  {
   "cell_type": "code",
   "execution_count": 1,
   "id": "1dd9ec99-0704-4137-a900-9fb9fbdde411",
   "metadata": {},
   "outputs": [],
   "source": [
    "from pipeline_run import download_data\n",
    "\n",
    "def run_download_data():\n",
    "    \n",
    "    return download_data()"
   ]
  },
  {
   "cell_type": "code",
   "execution_count": 1,
   "id": "e91079f6-ec72-4911-92cc-0353b7aec43d",
   "metadata": {},
   "outputs": [],
   "source": [
    "import pickle"
   ]
  },
  {
   "cell_type": "code",
   "execution_count": 2,
   "id": "51b18e3a-c66c-43b4-b6ad-fad86cdc4d30",
   "metadata": {},
   "outputs": [],
   "source": [
    "db = {32:[{\"23432\":32, \"234324\":34}, {\"af\":34, \"afda\":32}]}\n",
    "\n",
    "# Its important to use binary mode\n",
    "dbfile = open('examplePickle', 'ab')\n",
    "\n",
    "# source, destination\n",
    "pickle.dump(db, dbfile)                     \n",
    "dbfile.close()"
   ]
  },
  {
   "cell_type": "code",
   "execution_count": 3,
   "id": "0af9a7c0-b1a0-4827-b64e-3bd64f5f9911",
   "metadata": {},
   "outputs": [],
   "source": [
    "import json\n"
   ]
  },
  {
   "cell_type": "code",
   "execution_count": 9,
   "id": "46217602-c576-4bb3-88f1-aa0b42c42355",
   "metadata": {},
   "outputs": [],
   "source": [
    "import json\n",
    "\n",
    "aDict = {\"a\":54, \"b\":87, 32:[\"32\", \"badfa\"]}\n",
    "jsonString = json.dumps(aDict)\n",
    "\n",
    "with open(\"test.txt\", \"w\") as f:\n",
    "    f.write(jsonString)\n"
   ]
  },
  {
   "cell_type": "code",
   "execution_count": 10,
   "id": "ef66b5a6-17cf-4168-b00c-fa3018b98d24",
   "metadata": {},
   "outputs": [],
   "source": [
    "my_json = json.load(open(\"test.txt\", 'r'))"
   ]
  },
  {
   "cell_type": "code",
   "execution_count": 13,
   "id": "9b7b6ccd-59d9-4168-a009-1eb790a31fd2",
   "metadata": {},
   "outputs": [
    {
     "data": {
      "text/plain": [
       "dict_keys(['a', 'b', '32'])"
      ]
     },
     "execution_count": 13,
     "metadata": {},
     "output_type": "execute_result"
    }
   ],
   "source": [
    "my_json.keys()"
   ]
  },
  {
   "cell_type": "code",
   "execution_count": null,
   "id": "201534b0-e8b7-48b0-bee1-becf75e602a0",
   "metadata": {},
   "outputs": [],
   "source": []
  }
 ],
 "metadata": {
  "environment": {
   "kernel": "python3",
   "name": "tf2-gpu.2-8.m91",
   "type": "gcloud",
   "uri": "gcr.io/deeplearning-platform-release/tf2-gpu.2-8:m91"
  },
  "kernelspec": {
   "display_name": "Python 3",
   "language": "python",
   "name": "python3"
  },
  "language_info": {
   "codemirror_mode": {
    "name": "ipython",
    "version": 3
   },
   "file_extension": ".py",
   "mimetype": "text/x-python",
   "name": "python",
   "nbconvert_exporter": "python",
   "pygments_lexer": "ipython3",
   "version": "3.7.12"
  }
 },
 "nbformat": 4,
 "nbformat_minor": 5
}
